{
 "cells": [
  {
   "cell_type": "code",
   "execution_count": 1,
   "metadata": {},
   "outputs": [],
   "source": [
    "import pandas as pd\n",
    "import numpy as np\n",
    "import matplotlib.pyplot as plt\n",
    "import seaborn as sns"
   ]
  },
  {
   "cell_type": "markdown",
   "metadata": {},
   "source": [
    "### Import Data"
   ]
  },
  {
   "cell_type": "code",
   "execution_count": 3,
   "metadata": {},
   "outputs": [
    {
     "name": "stderr",
     "output_type": "stream",
     "text": [
      "C:\\Users\\mcarney\\Anaconda3\\lib\\site-packages\\IPython\\core\\interactiveshell.py:3049: DtypeWarning: Columns (27,29,42,43,51,52,53,54,55,56,57,60,61,62,63,64,65,66,80,81,82,83,84,90,91,92,93,94) have mixed types. Specify dtype option on import or set low_memory=False.\n",
      "  interactivity=interactivity, compiler=compiler, result=result)\n"
     ]
    }
   ],
   "source": [
    "# Import solar data\n",
    "# https://www.californiadgstats.ca.gov/downloads/\n",
    "# CSI Working Data Set\n",
    "raw = pd.read_csv('WorkingDataSet_5-28-2020.csv')"
   ]
  },
  {
   "cell_type": "code",
   "execution_count": 4,
   "metadata": {},
   "outputs": [
    {
     "data": {
      "text/html": [
       "<div>\n",
       "<style scoped>\n",
       "    .dataframe tbody tr th:only-of-type {\n",
       "        vertical-align: middle;\n",
       "    }\n",
       "\n",
       "    .dataframe tbody tr th {\n",
       "        vertical-align: top;\n",
       "    }\n",
       "\n",
       "    .dataframe thead th {\n",
       "        text-align: right;\n",
       "    }\n",
       "</style>\n",
       "<table border=\"1\" class=\"dataframe\">\n",
       "  <thead>\n",
       "    <tr style=\"text-align: right;\">\n",
       "      <th></th>\n",
       "      <th>Application Number</th>\n",
       "      <th>Program Administrator</th>\n",
       "      <th>Program</th>\n",
       "      <th>Incentive Design</th>\n",
       "      <th>Incentive Type</th>\n",
       "      <th>Incentive Step</th>\n",
       "      <th>Incentive Amount</th>\n",
       "      <th>Total Cost</th>\n",
       "      <th>Nameplate Rating</th>\n",
       "      <th>CEC PTC Rating</th>\n",
       "      <th>...</th>\n",
       "      <th>CEC PTC Rating Single-Axis Tracking</th>\n",
       "      <th>CEC PTC Rating Dual-Axis Tracking</th>\n",
       "      <th>CSI Rating Fixed</th>\n",
       "      <th>CSI Rating Single-Axis Tracking</th>\n",
       "      <th>CSI Rating Dual-Axis Tracking</th>\n",
       "      <th>MASH Track 1A Incentive Amount</th>\n",
       "      <th>MASH Track 1B Incentive Amount</th>\n",
       "      <th>MASH Track 2 Incentive Amount</th>\n",
       "      <th>MASH Track 1A % Capacity</th>\n",
       "      <th>MASH Track 1B % Capacity</th>\n",
       "    </tr>\n",
       "  </thead>\n",
       "  <tbody>\n",
       "    <tr>\n",
       "      <th>0</th>\n",
       "      <td>SD-CSI-03095</td>\n",
       "      <td>CSE</td>\n",
       "      <td>Small Commercial (&lt; 10 kW) and All Residential</td>\n",
       "      <td>$1.55 per Watt EPBB</td>\n",
       "      <td>EPBB</td>\n",
       "      <td>Step 5</td>\n",
       "      <td>3446.0</td>\n",
       "      <td>0.0</td>\n",
       "      <td>2.816</td>\n",
       "      <td>2.286</td>\n",
       "      <td>...</td>\n",
       "      <td>0.0</td>\n",
       "      <td>0.0</td>\n",
       "      <td>2.223</td>\n",
       "      <td>0.0</td>\n",
       "      <td>0.0</td>\n",
       "      <td>NaN</td>\n",
       "      <td>NaN</td>\n",
       "      <td>NaN</td>\n",
       "      <td>NaN</td>\n",
       "      <td>NaN</td>\n",
       "    </tr>\n",
       "  </tbody>\n",
       "</table>\n",
       "<p>1 rows × 124 columns</p>\n",
       "</div>"
      ],
      "text/plain": [
       "  Application Number Program Administrator  \\\n",
       "0       SD-CSI-03095                   CSE   \n",
       "\n",
       "                                          Program     Incentive Design  \\\n",
       "0  Small Commercial (< 10 kW) and All Residential  $1.55 per Watt EPBB   \n",
       "\n",
       "  Incentive Type Incentive Step  Incentive Amount  Total Cost  \\\n",
       "0           EPBB         Step 5            3446.0         0.0   \n",
       "\n",
       "   Nameplate Rating  CEC PTC Rating  ...  CEC PTC Rating Single-Axis Tracking  \\\n",
       "0             2.816           2.286  ...                                  0.0   \n",
       "\n",
       "   CEC PTC Rating Dual-Axis Tracking CSI Rating Fixed  \\\n",
       "0                                0.0            2.223   \n",
       "\n",
       "  CSI Rating Single-Axis Tracking  CSI Rating Dual-Axis Tracking  \\\n",
       "0                             0.0                            0.0   \n",
       "\n",
       "  MASH Track 1A Incentive Amount  MASH Track 1B Incentive Amount  \\\n",
       "0                            NaN                             NaN   \n",
       "\n",
       "  MASH Track 2 Incentive Amount MASH Track 1A % Capacity  \\\n",
       "0                           NaN                      NaN   \n",
       "\n",
       "  MASH Track 1B % Capacity  \n",
       "0                      NaN  \n",
       "\n",
       "[1 rows x 124 columns]"
      ]
     },
     "execution_count": 4,
     "metadata": {},
     "output_type": "execute_result"
    }
   ],
   "source": [
    "raw.head(1)"
   ]
  },
  {
   "cell_type": "code",
   "execution_count": null,
   "metadata": {},
   "outputs": [],
   "source": []
  }
 ],
 "metadata": {
  "kernelspec": {
   "display_name": "Python 3",
   "language": "python",
   "name": "python3"
  },
  "language_info": {
   "codemirror_mode": {
    "name": "ipython",
    "version": 3
   },
   "file_extension": ".py",
   "mimetype": "text/x-python",
   "name": "python",
   "nbconvert_exporter": "python",
   "pygments_lexer": "ipython3",
   "version": "3.7.3"
  }
 },
 "nbformat": 4,
 "nbformat_minor": 2
}

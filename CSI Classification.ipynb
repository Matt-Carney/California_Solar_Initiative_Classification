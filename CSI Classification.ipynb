{
 "cells": [
  {
   "cell_type": "markdown",
   "metadata": {},
   "source": [
    "### Import Libraries"
   ]
  },
  {
   "cell_type": "code",
   "execution_count": 26,
   "metadata": {},
   "outputs": [],
   "source": [
    "import pandas as pd\n",
    "import numpy as np\n",
    "import matplotlib.pyplot as plt\n",
    "import seaborn as sns\n",
    "\n",
    "from sklearn.preprocessing import LabelEncoder\n",
    "from sklearn.model_selection import train_test_split, GridSearchCV, cross_validate, cross_val_score\n",
    "\n",
    "from sklearn.metrics import confusion_matrix\n",
    "from sklearn.metrics import roc_auc_score, roc_curve\n",
    "from sklearn.metrics import precision_score, recall_score, precision_recall_curve,f1_score, fbeta_score\n",
    "\n",
    "from sklearn import linear_model, svm, naive_bayes, neighbors, ensemble\n",
    "from sklearn.linear_model import LogisticRegression\n",
    "from sklearn.preprocessing import StandardScaler\n",
    "from sklearn.linear_model import LogisticRegressionCV"
   ]
  },
  {
   "cell_type": "markdown",
   "metadata": {},
   "source": [
    "### Import Data"
   ]
  },
  {
   "cell_type": "code",
   "execution_count": 3,
   "metadata": {},
   "outputs": [
    {
     "name": "stderr",
     "output_type": "stream",
     "text": [
      "C:\\Users\\mcarney\\Anaconda3\\lib\\site-packages\\IPython\\core\\interactiveshell.py:3049: DtypeWarning: Columns (27,29,42,43,51,52,53,54,55,56,57,60,61,62,63,64,65,66,80,81,82,83,84,90,91,92,93,94) have mixed types. Specify dtype option on import or set low_memory=False.\n",
      "  interactivity=interactivity, compiler=compiler, result=result)\n"
     ]
    }
   ],
   "source": [
    "# Import solar data\n",
    "# https://www.californiadgstats.ca.gov/downloads/\n",
    "# CSI Working Data Set\n",
    "raw = pd.read_csv('WorkingDataSet_5-28-2020.csv')"
   ]
  },
  {
   "cell_type": "code",
   "execution_count": 4,
   "metadata": {},
   "outputs": [
    {
     "data": {
      "text/plain": [
       "(174344, 124)"
      ]
     },
     "execution_count": 4,
     "metadata": {},
     "output_type": "execute_result"
    }
   ],
   "source": [
    "raw.shape"
   ]
  },
  {
   "cell_type": "code",
   "execution_count": 5,
   "metadata": {},
   "outputs": [
    {
     "data": {
      "text/plain": [
       "Index(['Application Number', 'Program Administrator', 'Program',\n",
       "       'Incentive Design', 'Incentive Type', 'Incentive Step',\n",
       "       'Incentive Amount', 'Total Cost', 'Nameplate Rating', 'CEC PTC Rating',\n",
       "       ...\n",
       "       'CEC PTC Rating Single-Axis Tracking',\n",
       "       'CEC PTC Rating Dual-Axis Tracking', 'CSI Rating Fixed',\n",
       "       'CSI Rating Single-Axis Tracking', 'CSI Rating Dual-Axis Tracking',\n",
       "       'MASH Track 1A Incentive Amount', 'MASH Track 1B Incentive Amount',\n",
       "       'MASH Track 2 Incentive Amount', 'MASH Track 1A % Capacity',\n",
       "       'MASH Track 1B % Capacity'],\n",
       "      dtype='object', length=124)"
      ]
     },
     "execution_count": 5,
     "metadata": {},
     "output_type": "execute_result"
    }
   ],
   "source": [
    "raw.columns"
   ]
  },
  {
   "cell_type": "code",
   "execution_count": 6,
   "metadata": {},
   "outputs": [],
   "source": [
    "#Feature selection based on (limited) domain knowledge\n",
    "solar = raw[['Program Administrator', 'Program', 'Incentive Type', 'Incentive Amount',\\\n",
    "            'Total Cost', 'Nameplate Rating', 'CEC PTC Rating', 'Design Factor',\\\n",
    "            'CSI Rating', 'Current Incentive Application Status', 'System Owner Sector', 'Host Customer Sector',\\\n",
    "            'Host Customer Physical Address City', 'Host Customer Physical Address County', 'Host Customer Physical Zip Code',\\\n",
    "            'Solar Contractor Company Name', 'Seller Company Name', 'PV Module#1 Manufacturer', 'PV Module#1 Model',\\\n",
    "            'Inverter#1 Manufacturer', 'Inverter#1 Model', 'Installed Status', 'Completed/PBI-In Payment Status', 'Tracking Type']]"
   ]
  },
  {
   "cell_type": "code",
   "execution_count": 7,
   "metadata": {},
   "outputs": [],
   "source": [
    "#Select only 'Delisted' or 'Installed' projects\n",
    "sol = solar.loc[(solar['Current Incentive Application Status'] == 'Cancelled') |\\\n",
    "                (solar['Current Incentive Application Status'] == 'Completed') |\\\n",
    "                (solar['Current Incentive Application Status'] == 'Withdrawn') |\\\n",
    "                (solar['Current Incentive Application Status'] == 'Suspended - Incentive Claim Request Review')]"
   ]
  },
  {
   "cell_type": "code",
   "execution_count": 8,
   "metadata": {},
   "outputs": [],
   "source": [
    "#Drop NaNs\n",
    "sol = sol.dropna()"
   ]
  },
  {
   "cell_type": "code",
   "execution_count": 9,
   "metadata": {},
   "outputs": [],
   "source": [
    "#Change target ('Installed Status') to binary. Majority = 'Installed', \"1\". Minority = \"Delisted\" (canceled), \"0\".\n",
    "#Drop \"Installed Status\"\n",
    "sol['Completed'] = (sol['Installed Status'] == 'Installed').astype(int) \n",
    "sol = sol.drop(columns=['Installed Status'])"
   ]
  },
  {
   "cell_type": "code",
   "execution_count": 10,
   "metadata": {},
   "outputs": [
    {
     "data": {
      "text/plain": [
       "1    142506\n",
       "0     22122\n",
       "Name: Completed, dtype: int64"
      ]
     },
     "execution_count": 10,
     "metadata": {},
     "output_type": "execute_result"
    }
   ],
   "source": [
    "#Calculate majority (Installed) and minority (Delisted) counts\n",
    "sol['Completed'].value_counts()"
   ]
  },
  {
   "cell_type": "code",
   "execution_count": 11,
   "metadata": {},
   "outputs": [],
   "source": [
    "#Drop columns for data leakage and company name!!!\n",
    "sol = sol.drop(columns= ['Current Incentive Application Status', 'Completed/PBI-In Payment Status',\\\n",
    "                         'Solar Contractor Company Name', 'Seller Company Name'])"
   ]
  },
  {
   "cell_type": "code",
   "execution_count": 12,
   "metadata": {},
   "outputs": [],
   "source": [
    "#Assign target and features,\n",
    "y = sol['Completed']\n",
    "X = sol.drop(columns = ['Completed'])"
   ]
  },
  {
   "cell_type": "code",
   "execution_count": 15,
   "metadata": {},
   "outputs": [],
   "source": [
    "#Label encode categorical features\n",
    "le = LabelEncoder()\n",
    "names = ['Program Administrator', 'Program', 'Incentive Type', 'System Owner Sector',\\\n",
    "        'Host Customer Sector', 'Host Customer Physical Address City', 'Host Customer Physical Address County',\\\n",
    "        'PV Module#1 Manufacturer', 'PV Module#1 Model',\\\n",
    "        'Inverter#1 Manufacturer', 'Inverter#1 Model', 'Tracking Type']\n",
    "\n",
    "for k in names:\n",
    "    le.fit(X[k])\n",
    "    X[k] = le.transform(X[k])"
   ]
  },
  {
   "cell_type": "code",
   "execution_count": 18,
   "metadata": {},
   "outputs": [],
   "source": [
    "#Train/test split\n",
    "X_train, X_test, y_train, y_test = train_test_split(X, y, test_size=0.25, stratify=y, random_state=123)"
   ]
  },
  {
   "cell_type": "code",
   "execution_count": 27,
   "metadata": {},
   "outputs": [
    {
     "name": "stderr",
     "output_type": "stream",
     "text": [
      "C:\\Users\\mcarney\\Anaconda3\\lib\\site-packages\\sklearn\\ensemble\\forest.py:246: FutureWarning: The default value of n_estimators will change from 10 in version 0.20 to 100 in 0.22.\n",
      "  \"10 in version 0.20 to 100 in 0.22.\", FutureWarning)\n",
      "C:\\Users\\mcarney\\Anaconda3\\lib\\site-packages\\sklearn\\ensemble\\forest.py:246: FutureWarning: The default value of n_estimators will change from 10 in version 0.20 to 100 in 0.22.\n",
      "  \"10 in version 0.20 to 100 in 0.22.\", FutureWarning)\n",
      "C:\\Users\\mcarney\\Anaconda3\\lib\\site-packages\\sklearn\\ensemble\\forest.py:246: FutureWarning: The default value of n_estimators will change from 10 in version 0.20 to 100 in 0.22.\n",
      "  \"10 in version 0.20 to 100 in 0.22.\", FutureWarning)\n",
      "C:\\Users\\mcarney\\Anaconda3\\lib\\site-packages\\sklearn\\ensemble\\forest.py:246: FutureWarning: The default value of n_estimators will change from 10 in version 0.20 to 100 in 0.22.\n",
      "  \"10 in version 0.20 to 100 in 0.22.\", FutureWarning)\n",
      "C:\\Users\\mcarney\\Anaconda3\\lib\\site-packages\\sklearn\\ensemble\\forest.py:246: FutureWarning: The default value of n_estimators will change from 10 in version 0.20 to 100 in 0.22.\n",
      "  \"10 in version 0.20 to 100 in 0.22.\", FutureWarning)\n",
      "C:\\Users\\mcarney\\Anaconda3\\lib\\site-packages\\sklearn\\ensemble\\forest.py:246: FutureWarning: The default value of n_estimators will change from 10 in version 0.20 to 100 in 0.22.\n",
      "  \"10 in version 0.20 to 100 in 0.22.\", FutureWarning)\n"
     ]
    },
    {
     "name": "stdout",
     "output_type": "stream",
     "text": [
      "Average ROC AUC:  0.6916266993894513\n"
     ]
    }
   ],
   "source": [
    "#Random Forest\n",
    "rf = ensemble.RandomForestClassifier()\n",
    "rf_scores = cross_val_score(rf, X_train, y_train, cv=5, scoring='roc_auc',verbose=0)\n",
    "rf.fit(X_train, y_train)\n",
    "print(\"Average ROC AUC: \", np.mean(rf_scores))"
   ]
  },
  {
   "cell_type": "code",
   "execution_count": null,
   "metadata": {},
   "outputs": [],
   "source": []
  }
 ],
 "metadata": {
  "kernelspec": {
   "display_name": "Python 3",
   "language": "python",
   "name": "python3"
  },
  "language_info": {
   "codemirror_mode": {
    "name": "ipython",
    "version": 3
   },
   "file_extension": ".py",
   "mimetype": "text/x-python",
   "name": "python",
   "nbconvert_exporter": "python",
   "pygments_lexer": "ipython3",
   "version": "3.7.3"
  }
 },
 "nbformat": 4,
 "nbformat_minor": 2
}

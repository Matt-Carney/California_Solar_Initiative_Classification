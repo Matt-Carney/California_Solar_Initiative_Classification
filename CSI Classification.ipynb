{
 "cells": [
  {
   "cell_type": "markdown",
   "metadata": {},
   "source": [
    "### Import Libraries"
   ]
  },
  {
   "cell_type": "code",
   "execution_count": 1,
   "metadata": {},
   "outputs": [],
   "source": [
    "import pandas as pd\n",
    "import numpy as np\n",
    "import matplotlib.pyplot as plt\n",
    "import seaborn as sns"
   ]
  },
  {
   "cell_type": "markdown",
   "metadata": {},
   "source": [
    "### Import Data"
   ]
  },
  {
   "cell_type": "code",
   "execution_count": 3,
   "metadata": {},
   "outputs": [
    {
     "name": "stderr",
     "output_type": "stream",
     "text": [
      "C:\\Users\\mcarney\\Anaconda3\\lib\\site-packages\\IPython\\core\\interactiveshell.py:3049: DtypeWarning: Columns (27,29,42,43,51,52,53,54,55,56,57,60,61,62,63,64,65,66,80,81,82,83,84,90,91,92,93,94) have mixed types. Specify dtype option on import or set low_memory=False.\n",
      "  interactivity=interactivity, compiler=compiler, result=result)\n"
     ]
    }
   ],
   "source": [
    "# Import solar data\n",
    "# https://www.californiadgstats.ca.gov/downloads/\n",
    "# CSI Working Data Set\n",
    "raw = pd.read_csv('WorkingDataSet_5-28-2020.csv')"
   ]
  },
  {
   "cell_type": "code",
   "execution_count": 5,
   "metadata": {},
   "outputs": [
    {
     "data": {
      "text/plain": [
       "(174344, 124)"
      ]
     },
     "execution_count": 5,
     "metadata": {},
     "output_type": "execute_result"
    }
   ],
   "source": [
    "raw.shape"
   ]
  },
  {
   "cell_type": "code",
   "execution_count": 7,
   "metadata": {},
   "outputs": [
    {
     "data": {
      "text/plain": [
       "Index(['Application Number', 'Program Administrator', 'Program',\n",
       "       'Incentive Design', 'Incentive Type', 'Incentive Step',\n",
       "       'Incentive Amount', 'Total Cost', 'Nameplate Rating', 'CEC PTC Rating',\n",
       "       ...\n",
       "       'CEC PTC Rating Single-Axis Tracking',\n",
       "       'CEC PTC Rating Dual-Axis Tracking', 'CSI Rating Fixed',\n",
       "       'CSI Rating Single-Axis Tracking', 'CSI Rating Dual-Axis Tracking',\n",
       "       'MASH Track 1A Incentive Amount', 'MASH Track 1B Incentive Amount',\n",
       "       'MASH Track 2 Incentive Amount', 'MASH Track 1A % Capacity',\n",
       "       'MASH Track 1B % Capacity'],\n",
       "      dtype='object', length=124)"
      ]
     },
     "execution_count": 7,
     "metadata": {},
     "output_type": "execute_result"
    }
   ],
   "source": [
    "raw.columns"
   ]
  },
  {
   "cell_type": "code",
   "execution_count": null,
   "metadata": {},
   "outputs": [],
   "source": []
  }
 ],
 "metadata": {
  "kernelspec": {
   "display_name": "Python 3",
   "language": "python",
   "name": "python3"
  },
  "language_info": {
   "codemirror_mode": {
    "name": "ipython",
    "version": 3
   },
   "file_extension": ".py",
   "mimetype": "text/x-python",
   "name": "python",
   "nbconvert_exporter": "python",
   "pygments_lexer": "ipython3",
   "version": "3.7.3"
  }
 },
 "nbformat": 4,
 "nbformat_minor": 2
}
